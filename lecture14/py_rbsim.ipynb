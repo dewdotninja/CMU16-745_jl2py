{
 "cells": [
  {
   "cell_type": "markdown",
   "id": "d24a20ee-93f8-4ebd-9621-5e98671f21f3",
   "metadata": {},
   "source": [
    "## Lecture 14 of CMU16-745 (2025)\n",
    "\n",
    "#### py_rbsim.ipynb"
   ]
  },
  {
   "cell_type": "code",
   "execution_count": 2,
   "id": "5a3672c3-ee6d-481d-940f-8b06e6cb30c6",
   "metadata": {},
   "outputs": [],
   "source": [
    "import numpy as np\n"
   ]
  },
  {
   "cell_type": "code",
   "execution_count": 59,
   "id": "334008cd-234b-4df8-aee4-5df46cb80098",
   "metadata": {},
   "outputs": [],
   "source": [
    "def hat(v):\n",
    "    return np.array([[0,-v[2],v[1]],\n",
    "                     [v[2],0,-v[0]],\n",
    "                     [-v[1],v[0],0]])\n"
   ]
  },
  {
   "cell_type": "code",
   "execution_count": 127,
   "id": "e1aabd9b-11e9-4bd1-bea5-ab7fbda4236b",
   "metadata": {},
   "outputs": [],
   "source": [
    "def L(q):\n",
    "    global s,v,L_u,L_l\n",
    "    s = q[0]\n",
    "    v = q[1:]\n",
    "    L_u = np.hstack((np.expand_dims(s,axis=0),-v.T))\n",
    "    L_l = np.hstack((v,s*np.eye(3) + hat(v.flatten())))\n",
    "    return np.vstack((L_u,L_l))"
   ]
  },
  {
   "cell_type": "code",
   "execution_count": 128,
   "id": "febf122d-6bc9-4238-bfc6-16bef9426a14",
   "metadata": {},
   "outputs": [],
   "source": [
    "def R(q):\n",
    "    s = q[0]\n",
    "    v = q[1:]\n",
    "    R_u = np.hstack((np.expand_dims(s,axis=0),-v.T))\n",
    "    R_l = np.hstack((v,s*np.eye(3) - hat(v.flatten())))\n",
    "    return np.vstack((R_u,R_l))"
   ]
  },
  {
   "cell_type": "code",
   "execution_count": 8,
   "id": "74358377-158f-433d-8efb-81e56447dcb2",
   "metadata": {},
   "outputs": [],
   "source": [
    "T = np.diagflat([1,-1,-1,-1])\n",
    "H = np.vstack((np.zeros((1,3)),np.eye(3)))"
   ]
  },
  {
   "cell_type": "code",
   "execution_count": 10,
   "id": "6888db8e-c986-4b8c-b564-91f999c483b0",
   "metadata": {},
   "outputs": [],
   "source": [
    "def G(q):\n",
    "    return L(q)@H\n",
    "\n",
    "def Q(q):\n",
    "    return H.T@(R(q).T@L(q))@H"
   ]
  },
  {
   "cell_type": "code",
   "execution_count": 11,
   "id": "9183b395-b414-448b-b691-02e9e5d9568d",
   "metadata": {},
   "outputs": [],
   "source": [
    "J = np.diagflat([1,2,3])\n",
    "h = 0.1"
   ]
  },
  {
   "cell_type": "code",
   "execution_count": 15,
   "id": "d992a54f-b7e3-4379-8e6f-a434068bd5f7",
   "metadata": {},
   "outputs": [],
   "source": [
    "def vec(Mat):\n",
    "    global M_global\n",
    "    M_global = Mat\n",
    "    m, n = np.shape(Mat)[0], np.shape(Mat)[1]\n",
    "    return np.reshape(Mat,(m*n,1), order='F')"
   ]
  },
  {
   "cell_type": "code",
   "execution_count": 97,
   "id": "e5e9b767-2507-493a-b9d6-1971a881c7d5",
   "metadata": {},
   "outputs": [],
   "source": [
    "#initial conditions\n",
    "Q0 = np.eye(3)\n",
    "q0 = np.array([1,0,0,0]).reshape(4,1)\n",
    "# w0 = np.array([1,-1,0.5]).reshape(3,1) # test\n",
    "w0 = 2*np.random.rand(3,1)-1.0\n",
    "x0 = np.vstack((vec(Q0),w0))\n",
    "x0q = np.vstack((q0,w0))\n"
   ]
  },
  {
   "cell_type": "code",
   "execution_count": 98,
   "id": "2613865a-78a2-48df-81ff-cbeaa980b91f",
   "metadata": {},
   "outputs": [],
   "source": [
    "# dynamics\n",
    "def dynamics(x):\n",
    "    global Qm, om, Qd, omd\n",
    "    Qm = np.reshape(x[0:9],(3,3)).T\n",
    "    om = x[9:]\n",
    "    Qd = Qm@hat(om.flatten())\n",
    "    omd = np.linalg.solve(-J,hat(om.flatten())@J@om).reshape(3,1)\n",
    "\n",
    "    xd = np.vstack((vec(Qd), omd))\n",
    "    return xd"
   ]
  },
  {
   "cell_type": "code",
   "execution_count": 103,
   "id": "27fa219d-4928-4920-8b27-c58358456e6f",
   "metadata": {},
   "outputs": [],
   "source": [
    "def rkstep(x):\n",
    "    # global f1, f2, f3, f4\n",
    "    f1 = dynamics(x)\n",
    "    f2 = dynamics(x + 0.5*h*f1)\n",
    "    f3 = dynamics(x + 0.5*h*f2)\n",
    "    f4 = dynamics(x + h*f3)\n",
    "    xn = x + (h/6.0)*(f1 + 2*f2 + 2*f3 + f4)\n",
    "    return xn"
   ]
  },
  {
   "cell_type": "code",
   "execution_count": 99,
   "id": "73c74147-deeb-4ef1-a142-03e68223533b",
   "metadata": {},
   "outputs": [],
   "source": [
    "xk = x0\n",
    "for k in range(10000):\n",
    "    xk = rkstep(xk)\n",
    "    # print(xk)"
   ]
  },
  {
   "cell_type": "code",
   "execution_count": 100,
   "id": "115c0c14-a1fd-41cc-a8df-879f2cc78d33",
   "metadata": {},
   "outputs": [],
   "source": [
    "Qk = np.reshape(xk[0:9],(3,3)).T"
   ]
  },
  {
   "cell_type": "code",
   "execution_count": 101,
   "id": "677e61e3-d200-4d48-b9a4-db661076fa07",
   "metadata": {},
   "outputs": [
    {
     "data": {
      "text/plain": [
       "array([[ 9.99981970e-01, -1.76396813e-06,  3.12012650e-06],\n",
       "       [-1.76396813e-06,  9.99985764e-01, -7.63808019e-06],\n",
       "       [ 3.12012650e-06, -7.63808019e-06,  9.99994322e-01]])"
      ]
     },
     "execution_count": 101,
     "metadata": {},
     "output_type": "execute_result"
    }
   ],
   "source": [
    "Qk.T@Qk"
   ]
  },
  {
   "cell_type": "code",
   "execution_count": 102,
   "id": "87183d64-ef0a-4c5d-b238-b57ee840b9a1",
   "metadata": {},
   "outputs": [],
   "source": [
    "# Quaternion dynamics\n",
    "def qdynamics(x):\n",
    "    q = x[0:4]\n",
    "    w = x[4:7]\n",
    "    qd = 0.5*L(q)@H@w\n",
    "    wd = np.linalg.solve(-J,hat(w.flatten())@J@w).reshape(3,1)\n",
    "    xd = np.vstack((qd, wd))\n",
    "    return xd"
   ]
  },
  {
   "cell_type": "code",
   "execution_count": 106,
   "id": "88b15d7b-5e3f-4619-b371-4a478ccb3241",
   "metadata": {},
   "outputs": [],
   "source": [
    "def qrkstep(x):\n",
    "    # global f1, f2, f3, f4\n",
    "    f1 = qdynamics(x)\n",
    "    f2 = qdynamics(x + 0.5*h*f1)\n",
    "    f3 = qdynamics(x + 0.5*h*f2)\n",
    "    f4 = qdynamics(x + h*f3)\n",
    "    xn = x + (h/6.0)*(f1 + 2*f2 + 2*f3 + f4)\n",
    "    xn[0:4] = xn[0:4]/np.linalg.norm(xn[0:4])\n",
    "    return xn"
   ]
  },
  {
   "cell_type": "code",
   "execution_count": 129,
   "id": "65319a20-ce12-4223-aa8a-aecd8eadb973",
   "metadata": {},
   "outputs": [],
   "source": [
    "xkq = x0q\n",
    "for k in range(10000):\n",
    "    xkq = qrkstep(xkq)"
   ]
  },
  {
   "cell_type": "code",
   "execution_count": 130,
   "id": "0a80ce0e-a92a-4131-b571-547379710073",
   "metadata": {},
   "outputs": [
    {
     "data": {
      "text/plain": [
       "array([[-0.49001482],\n",
       "       [ 0.22964763],\n",
       "       [-0.39549734],\n",
       "       [ 0.74211138]])"
      ]
     },
     "execution_count": 130,
     "metadata": {},
     "output_type": "execute_result"
    }
   ],
   "source": [
    "qk = xkq[0:4]\n",
    "qk"
   ]
  },
  {
   "cell_type": "code",
   "execution_count": 131,
   "id": "44feed1a-acc0-46e9-9a0a-f0fd94abfe2a",
   "metadata": {},
   "outputs": [
    {
     "data": {
      "text/plain": [
       "np.float64(1.0)"
      ]
     },
     "execution_count": 131,
     "metadata": {},
     "output_type": "execute_result"
    }
   ],
   "source": [
    "np.linalg.norm(qk)"
   ]
  },
  {
   "cell_type": "code",
   "execution_count": 132,
   "id": "169f0737-d053-4ae8-9325-87d4e3a96b0a",
   "metadata": {},
   "outputs": [
    {
     "data": {
      "text/plain": [
       "array([[ 1.00000000e+00, -1.38777878e-17, -3.12250226e-17],\n",
       "       [-1.38777878e-17,  1.00000000e+00, -1.11022302e-16],\n",
       "       [-3.12250226e-17, -1.11022302e-16,  1.00000000e+00]])"
      ]
     },
     "execution_count": 132,
     "metadata": {},
     "output_type": "execute_result"
    }
   ],
   "source": [
    "Q(qk).T@Q(qk)"
   ]
  },
  {
   "cell_type": "code",
   "execution_count": null,
   "id": "47f617c9-3529-47cf-a21e-8a1c7bf15584",
   "metadata": {},
   "outputs": [],
   "source": []
  },
  {
   "cell_type": "code",
   "execution_count": null,
   "id": "72039198-b443-4a2a-8478-e6669cbbdc63",
   "metadata": {},
   "outputs": [],
   "source": []
  },
  {
   "cell_type": "code",
   "execution_count": null,
   "id": "b8d98b08-3de0-4895-98ec-92a6309422d7",
   "metadata": {},
   "outputs": [],
   "source": []
  },
  {
   "cell_type": "code",
   "execution_count": null,
   "id": "c987e79e-5f5f-4b62-901a-d33d28cdac6e",
   "metadata": {},
   "outputs": [],
   "source": []
  }
 ],
 "metadata": {
  "kernelspec": {
   "display_name": "Python 3 (ipykernel)",
   "language": "python",
   "name": "python3"
  },
  "language_info": {
   "codemirror_mode": {
    "name": "ipython",
    "version": 3
   },
   "file_extension": ".py",
   "mimetype": "text/x-python",
   "name": "python",
   "nbconvert_exporter": "python",
   "pygments_lexer": "ipython3",
   "version": "3.12.9"
  }
 },
 "nbformat": 4,
 "nbformat_minor": 5
}
