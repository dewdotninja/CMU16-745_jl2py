{
 "cells": [
  {
   "cell_type": "markdown",
   "id": "681b5671-de74-4273-afd5-4717dff9a78a",
   "metadata": {},
   "source": [
    "# py_cartpole.ipynb\n",
    "\n",
    "## Lecture 12 of CMU16-745 (2025)\n",
    "Differential Dynamic Programming (cartpole)\n",
    "Created: Apr 12, 25\n",
    "\n",
    "**Note :** The original Julia notebook uses cartpole dynamics from RobotZoo.jl.\n",
    "Here we substitute it with a function from \n",
    "R. Tedrake. [Underactuated Robotics: Algorithms for Walking, Running, Swimming, Flying, and Manipulation (Course Notes for MIT 6.832)](https://underactuated.csail.mit.edu). 2023.\n",
    "\n",
    "If you want to use JAX for autodiff computation. Set this variable \n",
    "```python\n",
    "use_jax = True \n",
    "```\n",
    "Otherwise, Drake is used.\n",
    "\n",
    "JAX is terribly slow, but can handle both DDP (full Newton) and iLQR (Gauss-Newton). \n",
    "Drake can handle only iLQR, because I still couldn't \n",
    "find a way to compute Hessian terms with Drake's forwarddiff. \n",
    "\n",
    "From my experiment, DDP is too slow to be practical! \n"
   ]
  },
  {
   "cell_type": "code",
   "execution_count": 174,
   "id": "63cbc760-fe23-4886-b169-20187f428e83",
   "metadata": {},
   "outputs": [],
   "source": [
    "use_jax = False"
   ]
  },
  {
   "cell_type": "code",
   "execution_count": 49,
   "id": "4dd6dbc5-dc2a-476a-9c61-eb18e67983ac",
   "metadata": {},
   "outputs": [],
   "source": [
    "# This variable is used to switch between normal and autodiff mode,\n",
    "# because it seems like jax.numpy is quite slow, so we want to use\n",
    "# numpy when not computing autodiff\n",
    "# The vaiable is set and reset in some cells throughout the notebook\n",
    "ad_flag = False  "
   ]
  },
  {
   "cell_type": "code",
   "execution_count": 175,
   "id": "e5c37023-e109-4880-bd9c-73adc36c442f",
   "metadata": {},
   "outputs": [],
   "source": [
    "import numpy as np \n",
    "from numpy import kron\n",
    "import matplotlib.pyplot as plt \n",
    "from scipy.linalg import block_diag\n",
    "if use_jax:\n",
    "    import jax\n",
    "    import jax.numpy as jnp\n",
    "    from jax. numpy.linalg import solve, eigvals\n",
    "else:\n",
    "    from numpy.linalg import solve\n",
    "    from pydrake import forwarddiff\n",
    "    from pydrake.autodiffutils import AutoDiffXd, ExtractGradient, ExtractValue, InitializeAutoDiff    "
   ]
  },
  {
   "cell_type": "code",
   "execution_count": 50,
   "id": "70839fb0-1792-415b-b5ee-5f1f5b9fb609",
   "metadata": {},
   "outputs": [],
   "source": [
    "# function that given the cart-pole state x (4d array)\n",
    "# and the input u (1d array) returns the right\n",
    "# hand side of the state space dynamics h(x,u)\n",
    "# (remember that we fixed the cart-pole parameters\n",
    "# to the values above!)\n",
    "def cartpole(x, u):\n",
    "    if use_jax and ad_flag:\n",
    "        c = jnp.cos(x[1])  # cos(theta)\n",
    "        s = jnp.sin(x[1])  # sin(theta)\n",
    "    else:\n",
    "        c = np.cos(x[1])  # cos(theta)\n",
    "        s = np.sin(x[1])  # sin(theta)    \n",
    "        \n",
    "        \n",
    "    # parameters. Changed to match RobotZoo's cartpole\n",
    "    m_c = 1.0  # cart mass\n",
    "    m_p = 0.2 # pendulum mass\n",
    "    l = 0.5  # pole length\n",
    "    g = 9.81  # gravity\n",
    "\n",
    "    f1 = x[2]  # x_dot is the 3rd element of state vector\n",
    "    f2 = x[3]  # theta_dot is the 4th element of state vector\n",
    "    f3 = (1/(m_c + m_p*s**2))*(u + m_p*s*(l*x[3]**2+g*c))  # from (16) of [3]\n",
    "    f4 = (1/(l*(m_c + m_p*s**2)))*(-u*c - m_p*l*x[3]**2*c*s - (m_c+m_p)*g*s)  # from (17) of [3]\n",
    "    if use_jax and ad_flag:\n",
    "        y = jnp.array([f1, f2, f3, f4]).reshape(4,1)\n",
    "    else:\n",
    "        y = np.array([f1, f2, f3, f4]).reshape(4,1)\n",
    "        \n",
    "    return y"
   ]
  },
  {
   "cell_type": "code",
   "execution_count": 28,
   "id": "6c16945b-7e2c-42d8-9652-9cc5927ebdb2",
   "metadata": {},
   "outputs": [],
   "source": [
    "h = 0.05 # time step"
   ]
  },
  {
   "cell_type": "code",
   "execution_count": 14,
   "id": "35393185-ae0d-4cd5-bad0-523abc1935c8",
   "metadata": {},
   "outputs": [],
   "source": [
    "def cartpole_rk4(x,u):\n",
    "    global f1, f2, f3, f4, ft,x_1,x_a\n",
    "    #RK4 integration with zero-order hold on u\n",
    "    x_1 = x\n",
    "    f1 = cartpole(x, u)\n",
    "    \n",
    "    x_a = x.reshape(4,1)\n",
    "    x_2 = x_a + 0.5*h*f1\n",
    "    f2 = cartpole(x_2.flatten(), u)\n",
    "    \n",
    "    x_3 = x_a + 0.5*h*f2\n",
    "    f3 = cartpole(x_3.flatten(), u)\n",
    "\n",
    "    x_4 = x_a + 0.5*h*f3\n",
    "    f4 = cartpole(x_4.flatten(), u)\n",
    "\n",
    "    ft = x_a + (h/6.0)*(f1 + 2*f2 + 2*f3 + f4)\n",
    "    \n",
    "    return ft"
   ]
  },
  {
   "cell_type": "code",
   "execution_count": 26,
   "id": "9bd1af53-e977-4aa4-a05c-7fd4ecc07380",
   "metadata": {},
   "outputs": [],
   "source": [
    "# for DDP use_jax\n",
    "# convert [m,n,p] tensor to [m*n,p] matrix\n",
    "def tensor2mat(Mat3d):\n",
    "    dim3 = Mat3d.shape[2]\n",
    "    M = Mat3d[:,:,0]\n",
    "    for i in range(dim3-1):\n",
    "        M = jnp.vstack((M,Mat3d[:,:,i+1]))\n",
    "\n",
    "    return M"
   ]
  },
  {
   "cell_type": "code",
   "execution_count": 79,
   "id": "56fd2808-4b60-412b-8446-c6a51bbe96f8",
   "metadata": {},
   "outputs": [],
   "source": [
    "# turn matrix to vector column-wise. Does not work with jax.jacfwd!\n",
    "# def vec(Mat):\n",
    "#     nrows = Mat.shape[0]\n",
    "#     ncols = Mat.shape[1]\n",
    "#     V = Mat[:,[0]]\n",
    "#     for i in range(ncols-1):\n",
    "#         V = jnp.vstack((V,Mat[:,[i+1]]))\n",
    "#     return V"
   ]
  },
  {
   "cell_type": "code",
   "execution_count": 16,
   "id": "48a6185e-477b-422b-8aa9-caaa5e9614c9",
   "metadata": {},
   "outputs": [],
   "source": [
    "# For DDP use_jax\n",
    "def vec(Mat):\n",
    "    global M_global\n",
    "    M_global = Mat\n",
    "    m, n = jnp.shape(Mat)[0], jnp.shape(Mat)[1]\n",
    "    return jnp.reshape(Mat,(m*n,1), order='F')"
   ]
  },
  {
   "cell_type": "code",
   "execution_count": 89,
   "id": "b028045d-d9bb-4b83-aec2-63cdbaefd48b",
   "metadata": {},
   "outputs": [],
   "source": [
    "# for DDP use_jax\n",
    "from scipy.sparse import csr_matrix\n",
    "def comm(M):\n",
    "    m, n = M.shape[0], M.shape[1]\n",
    "    row  = np.arange(m*n)\n",
    "    col  = row.reshape((m, n), order='F').ravel()\n",
    "    data = np.ones(m*n, dtype=np.int8)\n",
    "    T = csr_matrix((data, (row, col)), shape=(m*n, m*n))\n",
    "    return T.toarray()\n",
    "\n",
    "# this commutation matrix is constant. So just compute it once\n",
    "Amat = np.zeros((Nx,Nx))\n",
    "commA = comm(Amat)\n",
    "\n"
   ]
  },
  {
   "cell_type": "code",
   "execution_count": 18,
   "id": "8fcd2dc4-f052-4d78-99af-1ed383582e6c",
   "metadata": {},
   "outputs": [],
   "source": [
    "#vec(A)"
   ]
  },
  {
   "cell_type": "code",
   "execution_count": 19,
   "id": "7c8e36be-3d5a-4f2f-af8b-42a5b7e32d90",
   "metadata": {},
   "outputs": [],
   "source": [
    "# For DDP use_jax\n",
    "def is_pos_def(x):\n",
    "    return np.all(eigvals(x) > 0)"
   ]
  },
  {
   "cell_type": "code",
   "execution_count": 129,
   "id": "f444b335-3b5e-4770-829d-a7c099a3f269",
   "metadata": {},
   "outputs": [],
   "source": [
    "# mymat = np.array([[-1, 0],[0,1]])"
   ]
  },
  {
   "cell_type": "code",
   "execution_count": 20,
   "id": "fceec8ab-5c07-45d0-a330-b246b9886e0d",
   "metadata": {},
   "outputs": [],
   "source": [
    "# is_pos_def(mymat)"
   ]
  },
  {
   "cell_type": "code",
   "execution_count": 21,
   "id": "78f3599f-5613-4fbd-a9e6-65df1052e148",
   "metadata": {},
   "outputs": [],
   "source": [
    "# comm(A)"
   ]
  },
  {
   "cell_type": "code",
   "execution_count": 51,
   "id": "87f91e4b-88fe-4ab4-a094-bdf7aa64b6bc",
   "metadata": {},
   "outputs": [],
   "source": [
    "# wrapper for Drake\n",
    "def cartpole_rk4_x(x):\n",
    "    # global u_global \n",
    "    return cartpole_rk4(x, u_global)\n",
    "\n",
    "def cartpole_rk4_u(u):\n",
    "    # global x_global \n",
    "    return cartpole_rk4(x_global.flatten(), u)    \n",
    "    "
   ]
  },
  {
   "cell_type": "code",
   "execution_count": 179,
   "id": "58e99708-f666-4398-9d10-13ac5c671e8f",
   "metadata": {},
   "outputs": [],
   "source": [
    "# slightly modified from Drake's forwarddiff.py to handle vector output\n",
    "def vecout_derivative(function, x):\n",
    "    \"\"\"Compute the derivative of the function evaluated at the scalar input x\n",
    "    using Eigen's automatic differentiation.\n",
    "\n",
    "    The function should be scalar-input and vector-output.\n",
    "    \"\"\"\n",
    "    x_ad = AutoDiffXd(value=x, size=1, offset=0)\n",
    "    y_ad = function(x_ad)\n",
    "    y_derivative = ExtractGradient(y_ad)\n",
    "    return y_derivative\n"
   ]
  },
  {
   "cell_type": "code",
   "execution_count": 53,
   "id": "82bb2ab4-36ab-4eb3-8fc3-0b95825f9c81",
   "metadata": {},
   "outputs": [],
   "source": [
    "# use JAX\n",
    "def dfdx(x,u):\n",
    "    global u_global, ad_flag\n",
    "    u_global = u\n",
    "    if use_jax:\n",
    "        ad_flag = True\n",
    "        y = jnp.squeeze(jax.jacfwd(cartpole_rk4,argnums=0)(x,u))\n",
    "        ad_flag = False\n",
    "    else:\n",
    "        y = np.squeeze(forwarddiff.jacobian(cartpole_rk4_x,x.flatten()))\n",
    "    return y\n",
    "\n",
    "def dfdu(x,u):\n",
    "    global x_global, ad_flag\n",
    "    x_global = x\n",
    "    if use_jax:\n",
    "        ad_flag = True\n",
    "        y = jax.jacfwd(cartpole_rk4,argnums=1)(x,u)\n",
    "        ad_flag = False\n",
    "    else:\n",
    "        y = vecout_derivative(cartpole_rk4_u,u)\n",
    "    \n",
    "    return y\n"
   ]
  },
  {
   "cell_type": "code",
   "execution_count": 54,
   "id": "f943dd6e-7425-4ee6-b0e0-9bd584513ceb",
   "metadata": {},
   "outputs": [],
   "source": [
    "# these functions are for DDP. use_jax must be set to True\n",
    "def dAdx(x,u):\n",
    "    global ad_flag\n",
    "    ad_flag = True\n",
    "    y = jax.jacfwd(dfdx)(x,u)\n",
    "    ad_flag = False\n",
    "    return tensor2mat(y)\n",
    "\n",
    "def dBdx(x,u):\n",
    "    global ad_flag\n",
    "    ad_flag = True\n",
    "    y = jax.jacfwd(dfdu)(x,u)\n",
    "    ad_flag = False\n",
    "    return jnp.squeeze(y)\n",
    "\n",
    "def dAdu(x,u):\n",
    "    global ad_flag\n",
    "    ad_flag = True    \n",
    "    y = jax.jacfwd(dfdu)(x,u)\n",
    "    ad_flag = False\n",
    "    return tensor2mat(y)\n",
    "\n",
    "def dBdu(x,u):\n",
    "    global ad_flag\n",
    "    ad_flag = True    \n",
    "    y = jax.jacfwd(dfdu,argnums=1)(x,u)\n",
    "    ad_flag = False    \n",
    "    return y\n",
    "    "
   ]
  },
  {
   "cell_type": "code",
   "execution_count": 230,
   "id": "f8678b30-298b-4621-bae5-931d1013520a",
   "metadata": {
    "scrolled": true
   },
   "outputs": [
    {
     "data": {
      "text/plain": [
       "array([[1.00000000e+00, 2.04976476e-03, 5.00000000e-02, 3.06562500e-05],\n",
       "       [0.00000000e+00, 1.02459718e+00, 0.00000000e+00, 5.03678750e-02],\n",
       "       [0.00000000e+00, 9.88217708e-02, 1.00000000e+00, 2.04976476e-03],\n",
       "       [0.00000000e+00, 1.18586125e+00, 0.00000000e+00, 1.02459718e+00]])"
      ]
     },
     "execution_count": 230,
     "metadata": {},
     "output_type": "execute_result"
    }
   ],
   "source": [
    "# ---------------- Jacobian test  \n",
    "x_star = np.array([0, np.pi, 0, 0])\n",
    "u_star = 0.0\n",
    "A_test = dfdx(x_star,u_star)\n",
    "A_test"
   ]
  },
  {
   "cell_type": "code",
   "execution_count": 109,
   "id": "671c0506-3acf-41b4-9cb2-ca1c9f7863b4",
   "metadata": {},
   "outputs": [
    {
     "data": {
      "text/plain": [
       "Array([[0.00104218],\n",
       "       [0.00208946],\n",
       "       [0.05006131],\n",
       "       [0.10073575]], dtype=float32)"
      ]
     },
     "execution_count": 109,
     "metadata": {},
     "output_type": "execute_result"
    }
   ],
   "source": [
    "B_test = dfdu(x_star,u_star)\n",
    "B_test"
   ]
  },
  {
   "cell_type": "code",
   "execution_count": null,
   "id": "d7b51168-4178-465b-8a52-d99f4a38c893",
   "metadata": {},
   "outputs": [],
   "source": [
    "# the test cells below require use_jax = True"
   ]
  },
  {
   "cell_type": "code",
   "execution_count": 111,
   "id": "7e19e495-1b34-42df-aaa0-6956b656d996",
   "metadata": {},
   "outputs": [
    {
     "data": {
      "text/plain": [
       "(16, 4)"
      ]
     },
     "execution_count": 111,
     "metadata": {},
     "output_type": "execute_result"
    }
   ],
   "source": [
    "Ax_test = dAdx(x_star,u_star)\n",
    "Ax_test.shape"
   ]
  },
  {
   "cell_type": "code",
   "execution_count": 112,
   "id": "c9c7ff4b-5aa9-4ff4-a81a-5c8dbcd64d16",
   "metadata": {},
   "outputs": [
    {
     "data": {
      "text/plain": [
       "Array([[ 0.0000000e+00, -3.7477955e-11,  0.0000000e+00, -1.1120314e-12],\n",
       "       [ 0.0000000e+00, -2.5897326e-10,  0.0000000e+00, -4.9738920e-12],\n",
       "       [ 0.0000000e+00, -1.8405794e-09,  0.0000000e+00, -7.5036338e-11],\n",
       "       [ 0.0000000e+00, -1.2650034e-08,  0.0000000e+00, -3.3570066e-10]],      dtype=float32)"
      ]
     },
     "execution_count": 112,
     "metadata": {},
     "output_type": "execute_result"
    }
   ],
   "source": [
    "Bx_test = dBdx(x_star,u_star)\n",
    "Bx_test"
   ]
  },
  {
   "cell_type": "code",
   "execution_count": 59,
   "id": "5a6f837b-c7ba-4fb4-82a0-667904797591",
   "metadata": {},
   "outputs": [
    {
     "data": {
      "text/plain": [
       "(4, 4)"
      ]
     },
     "execution_count": 59,
     "metadata": {},
     "output_type": "execute_result"
    }
   ],
   "source": [
    "Bx_test.shape"
   ]
  },
  {
   "cell_type": "code",
   "execution_count": 113,
   "id": "3c0273de-c08a-4f6f-9484-8d806f267f35",
   "metadata": {},
   "outputs": [
    {
     "data": {
      "text/plain": [
       "Array([[ 0.0000000e+00],\n",
       "       [ 0.0000000e+00],\n",
       "       [ 0.0000000e+00],\n",
       "       [ 0.0000000e+00],\n",
       "       [-3.7477955e-11],\n",
       "       [-2.5897326e-10],\n",
       "       [-1.8405794e-09],\n",
       "       [-1.2650034e-08],\n",
       "       [ 0.0000000e+00],\n",
       "       [ 0.0000000e+00],\n",
       "       [ 0.0000000e+00],\n",
       "       [ 0.0000000e+00],\n",
       "       [-1.1120314e-12],\n",
       "       [-4.9738920e-12],\n",
       "       [-7.5036338e-11],\n",
       "       [-3.3570066e-10]], dtype=float32)"
      ]
     },
     "execution_count": 113,
     "metadata": {},
     "output_type": "execute_result"
    }
   ],
   "source": [
    "Au_test = dAdu(x_star,u_star)\n",
    "Au_test"
   ]
  },
  {
   "cell_type": "code",
   "execution_count": 61,
   "id": "d6f7afdb-2089-460c-91ec-520c89af403c",
   "metadata": {},
   "outputs": [
    {
     "data": {
      "text/plain": [
       "(16, 1)"
      ]
     },
     "execution_count": 61,
     "metadata": {},
     "output_type": "execute_result"
    }
   ],
   "source": [
    "Au_test.shape"
   ]
  },
  {
   "cell_type": "code",
   "execution_count": 114,
   "id": "7fcaf241-f008-4a0f-b748-f1b2ee7364d9",
   "metadata": {},
   "outputs": [
    {
     "data": {
      "text/plain": [
       "Array([[-4.6091047e-14],\n",
       "       [-1.8414083e-13],\n",
       "       [-4.0857296e-12],\n",
       "       [-1.9215442e-11]], dtype=float32)"
      ]
     },
     "execution_count": 114,
     "metadata": {},
     "output_type": "execute_result"
    }
   ],
   "source": [
    "Bu_test = dBdu(x_star,u_star)\n",
    "Bu_test"
   ]
  },
  {
   "cell_type": "code",
   "execution_count": 115,
   "id": "f1bc6f70-659f-4993-86fc-c0b3a9200a27",
   "metadata": {},
   "outputs": [
    {
     "data": {
      "text/plain": [
       "(4, 1)"
      ]
     },
     "execution_count": 115,
     "metadata": {},
     "output_type": "execute_result"
    }
   ],
   "source": [
    "Bu_test.shape"
   ]
  },
  {
   "cell_type": "code",
   "execution_count": null,
   "id": "d919ef72-169b-4eb5-9a0d-e92d176292c6",
   "metadata": {},
   "outputs": [],
   "source": [
    "# --------------- end of Jacobian test ----------------"
   ]
  },
  {
   "cell_type": "code",
   "execution_count": 39,
   "id": "8add5f71-8aa6-47c3-85d0-34f29b145cd6",
   "metadata": {},
   "outputs": [],
   "source": [
    "h = 0.05  # time step. Defined above\n",
    "Nx = 4     # number of state\n",
    "Nu = 1     # number of controls\n",
    "Tfinal = 5.0 # final time \n",
    "Nt = int(Tfinal/h)+1    # number of time steps\n",
    "thist = np.arange(0,h*(Nt-1),h)"
   ]
  },
  {
   "cell_type": "code",
   "execution_count": 40,
   "id": "362cf867-75f5-4395-98d1-6cd07e275a2a",
   "metadata": {},
   "outputs": [],
   "source": [
    "# Cost weights\n",
    "Q = block_diag(1.0*np.eye(2), 1.0*np.eye(2))\n",
    "R = 0.1\n",
    "Qn = 100*np.eye(Nx) # large weight on terminal cost\n"
   ]
  },
  {
   "cell_type": "code",
   "execution_count": 41,
   "id": "d8122105-a250-4d70-826f-ecc519c70ef9",
   "metadata": {},
   "outputs": [],
   "source": [
    "def stage_cost(x,u):\n",
    "    xbar = x-xgoal\n",
    "    return 0.5*((xbar.T@Q@xbar) + R*u*u)    "
   ]
  },
  {
   "cell_type": "code",
   "execution_count": 42,
   "id": "6cb368cf-0bf5-48db-8fa6-c7c69b3de4fc",
   "metadata": {},
   "outputs": [],
   "source": [
    "def terminal_cost(x):\n",
    "    xbar = x-xgoal\n",
    "    return 0.5*xbar.T@Qn@xbar"
   ]
  },
  {
   "cell_type": "code",
   "execution_count": 43,
   "id": "3b221070-27d7-4248-975d-929138669812",
   "metadata": {},
   "outputs": [],
   "source": [
    "def cost(xtraj, utraj):\n",
    "    J = 0.0\n",
    "    for k in range(Nt-1):\n",
    "        J += stage_cost(xtraj[:,[k]],utraj[k])\n",
    "    J += terminal_cost(xtraj[:,[Nt-1]])\n",
    "    return J.item()"
   ]
  },
  {
   "cell_type": "code",
   "execution_count": 74,
   "id": "6498e54b-c359-4bb1-834e-4feef7410ff3",
   "metadata": {},
   "outputs": [],
   "source": [
    "# forward rollout function\n",
    "def initial_rollout():\n",
    "    global xtraj, ad_flag\n",
    "    ad_flag = False\n",
    "    for k in range(Nt-1):\n",
    "        xtraj[:,[k+1]] = cartpole_rk4(xtraj[:,k], utraj[k])\n",
    "    J = cost(xtraj, utraj)\n",
    "    return J   "
   ]
  },
  {
   "cell_type": "code",
   "execution_count": 186,
   "id": "0545e481-0f3f-4d0c-9358-9b18b4a5161e",
   "metadata": {},
   "outputs": [],
   "source": [
    "# initial guess\n",
    "x0 = np.array([0,0,0,0]).reshape(4,1)\n",
    "xgoal = np.array([0,np.pi,0,0]).reshape(4,1)\n",
    "xtraj = np.kron(np.ones((1,Nt)),x0)\n",
    "utraj = np.random.rand(Nt-1)"
   ]
  },
  {
   "cell_type": "code",
   "execution_count": 187,
   "id": "1906cb65-01ab-4f03-9b2f-ad4eaaf4e256",
   "metadata": {},
   "outputs": [
    {
     "data": {
      "text/plain": [
       "3315.5731551867893"
      ]
     },
     "execution_count": 187,
     "metadata": {},
     "output_type": "execute_result"
    }
   ],
   "source": [
    "J = initial_rollout()\n",
    "J"
   ]
  },
  {
   "cell_type": "code",
   "execution_count": 188,
   "id": "a2267b79-944f-49bd-8a8e-8db868e095dc",
   "metadata": {},
   "outputs": [],
   "source": [
    "def backward_pass(mode='ilqr'):\n",
    "    global p,P,d,K,gx,gu,Gxx,Gxu,Gux,Guu,G, k,A,B,Ax,Bx,Au,Bu\n",
    "    dJ = 0.0\n",
    "    p[:,[Nt-1]] = Qn@(xtraj[:,[Nt-1]]-xgoal)\n",
    "    P[:,:,Nt-1] = Qn\n",
    "    \n",
    "    for k in range(Nt-2,-1,-1):\n",
    "        # Calculate derivatives\n",
    "        q  = Q@(xtraj[:,[k]] - xgoal)\n",
    "        r = R*utraj[k]\n",
    "\n",
    "        A = dfdx(xtraj[:,[k]], utraj[k])\n",
    "        B = dfdu(xtraj[:,[k]], utraj[k])\n",
    "\n",
    "        gx = q + A.T@p[:,[k+1]]\n",
    "        gu = r + B.T@p[:,[k+1]]\n",
    "\n",
    "\n",
    "        if mode=='ddp' and use_jax:\n",
    "            # DDP (full Newron) version works only with JAX autodiff\n",
    "            Ax = dAdx(xtraj[:,[k]], utraj[k])\n",
    "            Bx = dBdx(xtraj[:,[k]], utraj[k])\n",
    "            Au = dAdu(xtraj[:,[k]], utraj[k])\n",
    "            Bu = dBdu(xtraj[:,[k]], utraj[k])\n",
    "            Gxx = Q + A.T@P[:,:,k+1]@A + kron(p[:,[k+1]].T,np.eye(Nx))@commA@Ax[:,:,0]\n",
    "            Guu = R + B.T@P[:,:,k+1]@B + (kron(p[:,[k+1]].T, np.eye(Nu))@Bu)[0]\n",
    "            Gxu = A.T@P[:,:,k+1]@B + kron(p[:,[k+1]].T,np.eye(Nx))@commA@Au[:,:,0]\n",
    "            Gux = B.T@P[:,:,k+1]@A + kron(p[:,[k+1]].T, np.eye(Nu))@Bu\n",
    "    \n",
    "            beta = 0.1\n",
    "            G = np.block([[Gxx, Gxu],[Gux, Guu]])\n",
    "            while not is_pos_def(G):\n",
    "                Gxx += beta*np.eye(Gxx.shape[0])\n",
    "                Guu += beta*np.eye(Guu.shape[0])\n",
    "                beta = 2*beta\n",
    "                print(\"regularizing G\")\n",
    "                print(\"beta = \"+str(beta))\n",
    "        else:  # default to ilqr mode\n",
    "            # iLQR (Gauss-Newton) version \n",
    "            Gxx = Q + A.T@P[:,:,k+1]@A\n",
    "            Guu = R + B.T@P[:,:,k+1]@B\n",
    "            Gxu = A.T@P[:,:,k+1]@B\n",
    "            Gux = B.T@P[:,:,k+1]@A\n",
    "            \n",
    "        d[k] = solve(Guu,gu).item()\n",
    "        K[:,:,k] = solve(Guu,Gux)\n",
    "\n",
    "        p[:,[k]] = gx - K[:,:,k].T@gu + K[:,:,k].T@Guu*d[k] - Gxu*d[k]\n",
    "        P[:,:,k] = Gxx + K[:,:,k].T@Guu@K[:,:,k] - Gxu@K[:,:,k] - K[:,:,k].T@Gux\n",
    "\n",
    "        dJ += (gu.T*d[k]).item()\n",
    "    return dJ"
   ]
  },
  {
   "cell_type": "code",
   "execution_count": 164,
   "id": "34b6c90e-51b0-4446-ad2d-395716bcb8cc",
   "metadata": {},
   "outputs": [],
   "source": [
    "# rollout with line search\n",
    "def rollout_with_ls():\n",
    "    global xtraj, xn, un, Jn, alpha, ad_flag\n",
    "    ad_flag = False\n",
    "    xn[:,[0]] = xtraj[:,[0]]\n",
    "    alpha = 1.0\n",
    "    for k in range(Nt-1):\n",
    "        un[k] = (utraj[k] - alpha*d[k] - np.dot(K[:,:,k],xn[:,[k]]-xtraj[:,[k]])).item()\n",
    "        xn[:,[k+1]] = cartpole_rk4(xn[:,[k]],un[k])\n",
    "\n",
    "    Jn = cost(xn,un)\n",
    "    \n",
    "    while np.isnan(Jn) or Jn > (J - (1e-2)*alpha*dJ):\n",
    "        alpha = 0.5*alpha\n",
    "        # print(\"alpha = \"+str(alpha))\n",
    "        for k in range(Nt-1):\n",
    "            un[k] = (utraj[k] - alpha*d[k] - np.dot(K[:,:,k],xn[:,[k]]-xtraj[:,[k]])).item()\n",
    "            xn[:,[k+1]] = cartpole_rk4(xn[:,[k]],un[k])\n",
    "        Jn = cost(xn,un)    "
   ]
  },
  {
   "cell_type": "code",
   "execution_count": null,
   "id": "78b711de-4f5c-486d-9c4b-c1a9f877790b",
   "metadata": {},
   "outputs": [],
   "source": []
  },
  {
   "cell_type": "code",
   "execution_count": 189,
   "id": "452f5ced-938c-40e5-bfb7-631b977cf303",
   "metadata": {
    "scrolled": true
   },
   "outputs": [
    {
     "name": "stdout",
     "output_type": "stream",
     "text": [
      "iter        J                  ΔJ                   |d|             α       \n",
      "-----------------------------------------------------------------------------\n",
      "1   3315.5731551867893    5102.575025409894   53.593510035406965    1.0 \n",
      "11   723.8164233247724    1.1904330362051971   1.2088054565310558    1.0 \n",
      "21   714.0721247132208    0.8200981193356548   1.0141623556423691    1.0 \n",
      "31   706.3789557804688    0.7082211585582203   0.9385801577615251    1.0 \n",
      "41   699.5278922898696    0.6536452742339681   0.9005486929719365    1.0 \n",
      "51   693.0661954654046    0.6338875944174434   0.8801452489584903    1.0 \n",
      "61   686.6912909182523    0.6376661106333353   0.8896491466768037    1.0 \n",
      "71   680.2094812764931    0.6552599490546299   0.8856554254591482    1.0 \n",
      "81   673.5183623302902    0.6788516099637534   0.9134943023973144    1.0 \n",
      "91   666.5868847211677    0.7024508454008128   0.9233066522664395    1.0 \n",
      "iter        J                  ΔJ                   |d|             α       \n",
      "-----------------------------------------------------------------------------\n",
      "101   659.4327908617965    0.7225328022856071   0.9366754828724558    1.0 \n",
      "111   652.1008947465801    0.7373671568060037   0.9463992540429962    1.0 \n",
      "121   644.6449270911979    0.746928500184186   0.9483538397363336    1.0 \n",
      "131   637.1151921879157    0.7519018629027223   0.9539542318624367    1.0 \n",
      "141   629.5524367670162    0.7534836846275951   0.9498356497730096    1.0 \n",
      "151   621.9859976727748    0.7526954453183892   0.9521471912853728    1.0 \n",
      "161   614.434863407128    0.7505649939141045   0.945665740408532    1.0 \n",
      "171   606.9097025832735    0.7476844421845716   0.9467766303014221    1.0 \n",
      "181   599.4151799991715    0.744649508011942   0.9394807373436523    1.0 \n",
      "191   591.9519939769203    0.7416407403622775   0.9411694718044512    1.0 \n",
      "iter        J                  ΔJ                   |d|             α       \n",
      "-----------------------------------------------------------------------------\n",
      "201   584.518381946055    0.7389548588475329   0.9332127807223287    1.0 \n",
      "211   577.1113639515497    0.7365418872119477   0.9366227579785718    1.0 \n",
      "221   569.7273812284163    0.7345484108625524   0.9275653042967114    1.0 \n",
      "231   562.3629434830946    0.7328295065690932   0.9333220392257044    1.0 \n",
      "241   555.0147566330774    0.7314689043042436   0.9226044023921175    1.0 \n",
      "251   547.6800460322111    0.7303005820423148   0.9310026423481591    1.0 \n",
      "261   540.3564424971647    0.7293867268844464   0.9181437561470239    1.0 \n",
      "271   533.0421289283769    0.7285793675326248   0.9293001193852843    1.0 \n",
      "281   525.7356081711489    0.7279404904295533   0.9139529544774756    1.0 \n",
      "291   518.4357166021243    0.7273670756332753   0.927920816871685    1.0 \n",
      "iter        J                  ΔJ                   |d|             α       \n",
      "-----------------------------------------------------------------------------\n",
      "301   511.1413272582814    0.7269339271727312   0.909887459088518    1.0 \n",
      "311   503.8512802753336    0.7265964449521299   0.9267332784448803    1.0 \n",
      "321   496.564159580623    0.7264288268350688   0.910763866711133    1.0 \n",
      "331   489.2783661896949    0.7264092071171484   0.9257511994916878    1.0 \n",
      "341   481.99234206306977    0.7265253269276357   0.9136404891193133    1.0 \n",
      "351   474.70523889976334    0.7266494400769106   0.9248264061541237    1.0 \n",
      "361   467.4180452237109    0.7265128035646604   0.9161366111608119    1.0 \n",
      "371   460.1350524963331    0.7257176711980864   0.9229251913404002    1.0 \n",
      "381   452.86548950996763    0.7236645161432249   0.9167190873560509    1.0 \n",
      "391   445.6242749636454    0.7198396706960587   0.917551770642444    1.0 \n",
      "iter        J                  ΔJ                   |d|             α       \n",
      "-----------------------------------------------------------------------------\n",
      "401   438.4311326562145    0.7138563963191343   0.9132723108618529    1.0 \n",
      "411   431.3062881443048    0.7060882596387381   0.906297432185333    1.0 \n",
      "421   424.2631352220467    0.6976276592190421   0.906186713319828    1.0 \n",
      "431   417.29876674618646    0.6906559672993073   0.8918518707385065    1.0 \n",
      "441   410.3871579690494    0.6875813618422338   0.9021182375950146    1.0 \n",
      "451   403.4785264336433    0.6905280159017634   0.8890801946840644    1.0 \n",
      "461   396.5101805694186    0.699638663754011   0.9096721707460321    1.0 \n",
      "471   389.43473618795196    0.710888318745143   0.9096036907686851    1.0 \n",
      "481   382.28142522383683    0.7115083192845625   0.9146808558591742    1.0 \n",
      "491   375.27057072895985    0.674423004931449   0.890260035450081    1.0 \n",
      "iter        J                  ΔJ                   |d|             α       \n",
      "-----------------------------------------------------------------------------\n",
      "501   368.9446470314014    0.5655764502704963   0.808441627069312    1.0 \n",
      "511   364.06600334743956    0.387918680205884   0.6774342144598132    1.0 \n",
      "521   361.03769838753044    0.2113512064652018   0.4998908967181369    1.0 \n",
      "531   359.518348100482    0.0959267154359942   0.3397324620292433    1.0 \n",
      "541   358.8631942646129    0.039033744270126416   0.21627463581522174    1.0 \n",
      "551   358.6038219953886    0.01501213661671234   0.13548110077786948    1.0 \n",
      "561   358.50546162414463    0.005615283261251597   0.08300208294157811    1.0 \n",
      "571   358.4689358704775    0.0020715559332535214   0.05037361862438355    1.0 \n",
      "581   358.45551307075095    0.0007587826233769783   0.030450023461753416    1.0 \n"
     ]
    }
   ],
   "source": [
    "# DDP algorithm\n",
    "p = np.zeros((Nx,Nt))\n",
    "P = np.zeros((Nx, Nx, Nt))\n",
    "d = np.ones((Nt-1))\n",
    "K = np.zeros((Nu, Nx, Nt-1))\n",
    "dJ = 0.0\n",
    "\n",
    "xn = np.zeros((Nx,Nt))\n",
    "un = np.zeros((Nt-1))\n",
    "\n",
    "gx = np.zeros((Nx))\n",
    "gu = 0.0\n",
    "Gxx = np.zeros((Nx,Nx))\n",
    "Guu = 0.0\n",
    "Gxu = np.zeros((Nx))\n",
    "Gux = np.zeros((Nx))\n",
    "\n",
    "iter = 0\n",
    "while np.max(abs(d)) >2e-2: #1e-3:\n",
    "    iter+=1\n",
    "\n",
    "    # Backward pass\n",
    "    # dJ = backward_pass()\n",
    "    dJ = backward_pass()\n",
    "        \n",
    "    # forward rollout with line search\n",
    "    rollout_with_ls()\n",
    "\n",
    "        \n",
    "    # logging \n",
    "    if use_jax:  # jax is so slow, so print every iteration\n",
    "        if (iter-1)%10 == 0:  # print heading every 10 iterations\n",
    "            print(\"iter        J                  ΔJ                   |d|             α       \")\n",
    "            print(\"-----------------------------------------------------------------------------\")\n",
    "        if (iter-1)%1 == 0: # print values every 1 iterations\n",
    "            print(\"{}   {}    {}   {}    {} \".format(iter, J,\n",
    "                                        dJ, np.max(abs(d)), alpha))\n",
    "    else: # drake is faster. Print every 10 iterations\n",
    "        if (iter-1)%100 == 0:  # print heading every 100 iterations\n",
    "            print(\"iter        J                  ΔJ                   |d|             α       \")\n",
    "            print(\"-----------------------------------------------------------------------------\")\n",
    "        if (iter-1)%10 == 0: # print values every 10 iterations\n",
    "            print(\"{}   {}    {}   {}    {} \".format(iter, J,\n",
    "                                        dJ, np.max(abs(d)), alpha))\n",
    "        \n",
    "\n",
    "    J = Jn\n",
    "    xtraj = xn.copy()  # important! code xtraj = xn results in some bug difficult to find\n",
    "    utraj = un.copy()"
   ]
  },
  {
   "cell_type": "code",
   "execution_count": null,
   "id": "8a27a575-ca22-4649-80a9-2d4527722991",
   "metadata": {},
   "outputs": [],
   "source": []
  },
  {
   "cell_type": "code",
   "execution_count": 218,
   "id": "ac2d2190-d7b9-4d31-a902-8c5b7215a659",
   "metadata": {},
   "outputs": [],
   "source": [
    "# plot states and control\n",
    "def plot_x():\n",
    "    plt.figure()\n",
    "    plt.plot(thist,xtraj[0,:-1],\"b-\",thist,xtraj[1,:-1],'orange')\n",
    "    plt.xlabel(\"time (sec)\")\n",
    "    plt.ylabel(\"x(k)\")\n",
    "    plt.legend([\"x\",\"theta\"])\n",
    "    plt.grid(True)\n",
    "    plt.show()\n",
    "\n",
    "def plot_u():\n",
    "    plt.plot(thist[0:Nt-1],utraj,\"m-\")\n",
    "    plt.xlabel(\"time (sec)\")\n",
    "    plt.ylabel(\"u(k)\")\n",
    "    plt.grid(True)\n",
    "    plt.show()"
   ]
  },
  {
   "cell_type": "code",
   "execution_count": 219,
   "id": "be34a62f-0e3a-4f3f-b764-6c2ef5c82a9f",
   "metadata": {
    "scrolled": true
   },
   "outputs": [
    {
     "data": {
      "image/png": "[encoded data removed]",
      "text/plain": [
       "<Figure size 640x480 with 1 Axes>"
      ]
     },
     "metadata": {},
     "output_type": "display_data"
    }
   ],
   "source": [
    "plot_x()"
   ]
  },
  {
   "cell_type": "code",
   "execution_count": 191,
   "id": "a3aef77e-b880-439b-a59a-34974be3189b",
   "metadata": {
    "scrolled": true
   },
   "outputs": [
    {
     "data": {
      "image/png": "[encoded data removed]",
      "text/plain": [
       "<Figure size 640x480 with 1 Axes>"
      ]
     },
     "metadata": {},
     "output_type": "display_data"
    }
   ],
   "source": [
    "plot_u()"
   ]
  },
  {
   "cell_type": "code",
   "execution_count": 196,
   "id": "f1a88e89-9c63-42e4-a8ef-d3a46559225a",
   "metadata": {},
   "outputs": [],
   "source": [
    "# meshcat animation\n",
    "import meshcat\n",
    "import meshcat.geometry as g\n",
    "import meshcat.transformations as tf\n",
    "#from meshcat.animation import Animation\n",
    "import time"
   ]
  },
  {
   "cell_type": "code",
   "execution_count": 193,
   "id": "7d53cce3-85b6-41ac-adbe-cca320ce3351",
   "metadata": {},
   "outputs": [
    {
     "name": "stdout",
     "output_type": "stream",
     "text": [
      "You can open the visualizer by visiting the following URL:\n",
      "http://127.0.0.1:7000/static/\n"
     ]
    }
   ],
   "source": [
    "# Create a new visualizer\n",
    "vis = meshcat.Visualizer()"
   ]
  },
  {
   "cell_type": "code",
   "execution_count": 211,
   "id": "5cde311e-6609-4ce5-a9fe-93ab43496a18",
   "metadata": {},
   "outputs": [],
   "source": [
    "# create cartpole\n",
    "def build_cartpole(vis):\n",
    "    cart_pole = vis[\"cart_pole\"]\n",
    "    cart_pole.delete()\n",
    "    cart = cart_pole[\"cart\"]\n",
    "    pivot = cart[\"pivot\"]\n",
    "    pole = pivot[\"pole\"]\n",
    "    cart.set_object(g.Box([0.5, 0.3, 0.2]))\n",
    "    pole.set_object(g.Box([0.05, 0.05, 0.5]))\n",
    "    pole.set_transform(tf.translation_matrix([0, 0, -0.25]))\n",
    "    # pivot.set_transform(tf.rotation_matrix(-np.pi/2, [0, 1, 0]))\n",
    "    return cart,pivot"
   ]
  },
  {
   "cell_type": "code",
   "execution_count": 212,
   "id": "6612b0ef-9707-4a74-8b51-c46de06f58b6",
   "metadata": {},
   "outputs": [],
   "source": [
    "cart_x, cart_th = build_cartpole(vis)"
   ]
  },
  {
   "cell_type": "code",
   "execution_count": 227,
   "id": "40b9b5fd-fe3e-45cb-915e-d0b33e766afd",
   "metadata": {},
   "outputs": [],
   "source": [
    "def initialize_cartpole():\n",
    "    update_cartpole(0,0)\n",
    "    "
   ]
  },
  {
   "cell_type": "code",
   "execution_count": 228,
   "id": "f70c1549-7340-4f85-a426-76a2d6004f69",
   "metadata": {},
   "outputs": [],
   "source": [
    "initialize_cartpole()"
   ]
  },
  {
   "cell_type": "code",
   "execution_count": 204,
   "id": "4fec4f38-1253-4f0b-a6bf-eebd9b2a5c31",
   "metadata": {},
   "outputs": [],
   "source": [
    "# update cartpole pose\n",
    "def update_cartpole(x,th):\n",
    "    cart_th.set_transform(tf.rotation_matrix(th,[0,1,0]))\n",
    "    cart_x.set_transform(tf.translation_matrix([x, 0, 0]))"
   ]
  },
  {
   "cell_type": "code",
   "execution_count": 220,
   "id": "da8ea57b-1753-4cc1-810f-854e8498717b",
   "metadata": {},
   "outputs": [],
   "source": [
    "def simulate_cartpole():\n",
    "    for k in range(xtraj.shape[1]):\n",
    "        x = xtraj[0,k] # cart position\n",
    "        th = xtraj[1,k] # pole angle\n",
    "        update_cartpole(x,th)\n",
    "        time.sleep(h)"
   ]
  },
  {
   "cell_type": "code",
   "execution_count": 229,
   "id": "f25109d2-5d1d-4a1f-97f7-04310eecf861",
   "metadata": {},
   "outputs": [],
   "source": [
    "simulate_cartpole()"
   ]
  },
  {
   "cell_type": "code",
   "execution_count": null,
   "id": "aa59c4bb-4307-44e9-8d5b-801ec9b8448d",
   "metadata": {},
   "outputs": [],
   "source": []
  },
  {
   "cell_type": "code",
   "execution_count": null,
   "id": "66823289-7ffe-4049-a499-67be60a53a9b",
   "metadata": {},
   "outputs": [],
   "source": []
  },
  {
   "cell_type": "code",
   "execution_count": null,
   "id": "fad3649c-a759-433e-a5e6-a286fb9f548e",
   "metadata": {},
   "outputs": [],
   "source": []
  },
  {
   "cell_type": "code",
   "execution_count": null,
   "id": "75064146-d1b8-469d-af08-3da8bdfb7196",
   "metadata": {},
   "outputs": [],
   "source": []
  },
  {
   "cell_type": "code",
   "execution_count": null,
   "id": "0c9e8619-3d13-4b08-9d53-806feaf65c07",
   "metadata": {},
   "outputs": [],
   "source": []
  },
  {
   "cell_type": "code",
   "execution_count": null,
   "id": "293aad8a-d946-4022-9acc-81e91d3cbf7c",
   "metadata": {},
   "outputs": [],
   "source": []
  },
  {
   "cell_type": "code",
   "execution_count": null,
   "id": "83de8bab-debd-4f1e-b3c5-128fd0f92439",
   "metadata": {},
   "outputs": [],
   "source": []
  }
 ],
 "metadata": {
  "kernelspec": {
   "display_name": "Python 3 (ipykernel)",
   "language": "python",
   "name": "python3"
  },
  "language_info": {
   "codemirror_mode": {
    "name": "ipython",
    "version": 3
   },
   "file_extension": ".py",
   "mimetype": "text/x-python",
   "name": "python",
   "nbconvert_exporter": "python",
   "pygments_lexer": "ipython3",
   "version": "3.12.9"
  }
 },
 "nbformat": 4,
 "nbformat_minor": 5
}
