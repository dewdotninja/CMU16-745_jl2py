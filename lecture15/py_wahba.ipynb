{
 "cells": [
  {
   "cell_type": "markdown",
   "id": "e78e952e-1707-4206-9dfb-2bd614f6c92d",
   "metadata": {},
   "source": [
    "## Lecture 15 of CMU16-745 (2025)\n",
    "\n",
    "#### py_wahba.ipynb"
   ]
  },
  {
   "cell_type": "code",
   "execution_count": 72,
   "id": "5a3672c3-ee6d-481d-940f-8b06e6cb30c6",
   "metadata": {},
   "outputs": [],
   "source": [
    "import numpy as np\n",
    "from numpy.linalg import solve,norm\n",
    "from pydrake import forwarddiff"
   ]
  },
  {
   "cell_type": "markdown",
   "id": "f28d50c4-54f3-4744-ab85-52dc6f3114df",
   "metadata": {},
   "source": [
    "<hr>\n",
    "\n",
    "The function definitions in the cell below are the same as in lecture 14, \n",
    "with some minor adjustments in L(q), R(q) to fix forwarddiff errors."
   ]
  },
  {
   "cell_type": "code",
   "execution_count": 54,
   "id": "334008cd-234b-4df8-aee4-5df46cb80098",
   "metadata": {},
   "outputs": [],
   "source": [
    "def hat(v):\n",
    "    return np.array([[0,-v[2],v[1]],\n",
    "                     [v[2],0,-v[0]],\n",
    "                     [-v[1],v[0],0]])\n",
    "\n",
    "def L(q):\n",
    "    global s,v,L_u,L_l\n",
    "    s = q[0]\n",
    "    v = q[1:]\n",
    "    L_u = np.hstack((np.expand_dims(s,axis=0),-v.T))\n",
    "    L_l = np.hstack((v.reshape(3,1),s*np.eye(3) + hat(v.flatten()))) # add v.reshape()\n",
    "    return np.vstack((L_u,L_l))\n",
    "\n",
    "def R(q):\n",
    "    global R_u, R_l,s,v\n",
    "    s = q[0]\n",
    "    v = q[1:]\n",
    "    R_u = np.hstack((np.expand_dims(s,axis=0),-v.T))\n",
    "    R_l = np.hstack((v.reshape(3,1),s*np.eye(3) - hat(v.flatten()))) # add v.reshape()\n",
    "    return np.vstack((R_u,R_l))\n",
    "\n",
    "T = np.diagflat([1,-1,-1,-1])\n",
    "H = np.vstack((np.zeros((1,3)),np.eye(3)))\n",
    "\n",
    "def G(q):\n",
    "    return L(q)@H\n",
    "\n",
    "def Q(q):\n",
    "    return H.T@(R(q).T@L(q))@H\n"
   ]
  },
  {
   "cell_type": "code",
   "execution_count": 26,
   "id": "eb36c446-7bd7-4313-b91c-f68a0e448d8d",
   "metadata": {},
   "outputs": [],
   "source": [
    "def vec(Mat):\n",
    "    global M_global\n",
    "    M_global = Mat\n",
    "    m, n = np.shape(Mat)[0], np.shape(Mat)[1]\n",
    "    return np.reshape(Mat,(m*n,1), order='F')"
   ]
  },
  {
   "cell_type": "markdown",
   "id": "0e11ea3b-22f4-4c3d-aee4-2b8f594f9d49",
   "metadata": {},
   "source": [
    "<hr>"
   ]
  },
  {
   "cell_type": "code",
   "execution_count": 65,
   "id": "390e5716-b70a-4b25-95c1-b13b0d1e4f7b",
   "metadata": {},
   "outputs": [],
   "source": [
    "# generate a random quaternion\n",
    "qtrue = np.random.randn(4,1)\n",
    "qtrue = qtrue/norm(qtrue)\n",
    "Qtrue = Q(qtrue) # generate equilavent rotation matrix"
   ]
  },
  {
   "cell_type": "code",
   "execution_count": 66,
   "id": "3849f130-85b2-44c0-b45c-5c9d08710b93",
   "metadata": {},
   "outputs": [],
   "source": [
    "# generate data\n",
    "vN = np.random.randn(3,10) # generate some random world-frame vectors\n",
    "\n",
    "# normalize\n",
    "for k in range(10):\n",
    "    vN[:,k] = vN[:,k]/norm(vN[:,k])\n",
    "\n",
    "vB = Qtrue.T@vN # generate body-frame vectors"
   ]
  },
  {
   "cell_type": "code",
   "execution_count": 24,
   "id": "da9f0520-715a-4bad-abb9-1132fe0e03bc",
   "metadata": {},
   "outputs": [],
   "source": [
    "def residual(q):\n",
    "    r = vN - Q(q)@vB\n",
    "    return vec(r)"
   ]
  },
  {
   "cell_type": "code",
   "execution_count": 67,
   "id": "82f4ce21-c322-4fc8-a65f-94ea171b22bd",
   "metadata": {},
   "outputs": [],
   "source": [
    "# random initial guess\n",
    "q = np.random.randn(4,1)\n",
    "q = q/norm(q)"
   ]
  },
  {
   "cell_type": "code",
   "execution_count": 68,
   "id": "7fcf1969-29b8-43da-86d3-5fea909d0745",
   "metadata": {},
   "outputs": [],
   "source": [
    "# Gauss-Newton method\n",
    "phi = np.eye(3)\n",
    "iter = 0\n",
    "while np.max(abs(phi)) > 1e-8:\n",
    "    r = residual(q)\n",
    "    dr = np.squeeze(forwarddiff.jacobian(residual,q.flatten()))\n",
    "    gradr = dr@G(q)\n",
    "    phi = solve(-gradr.T@gradr,gradr.T@r) # 3-parameter update computed w gauss-newton\n",
    "    q = L(q)@np.vstack((np.sqrt(1-phi.T@phi),phi)) # multiplicative update applied to q\n",
    "    iter +=1\n",
    "    "
   ]
  },
  {
   "cell_type": "code",
   "execution_count": 69,
   "id": "8eebced0-69dc-4af9-a4ee-69cb2f2c4ae5",
   "metadata": {},
   "outputs": [
    {
     "data": {
      "text/plain": [
       "7"
      ]
     },
     "execution_count": 69,
     "metadata": {},
     "output_type": "execute_result"
    }
   ],
   "source": [
    "iter"
   ]
  },
  {
   "cell_type": "code",
   "execution_count": 70,
   "id": "c799cad9-ec65-4ff7-84dd-92f01625b44e",
   "metadata": {},
   "outputs": [
    {
     "data": {
      "text/plain": [
       "array([[ 0.73675295],\n",
       "       [-0.72089464],\n",
       "       [-1.12480143],\n",
       "       [ 1.29318512]])"
      ]
     },
     "execution_count": 70,
     "metadata": {},
     "output_type": "execute_result"
    }
   ],
   "source": [
    "q - qtrue"
   ]
  },
  {
   "cell_type": "code",
   "execution_count": 71,
   "id": "15bb5a9f-ae28-41bb-9310-573c63e3e012",
   "metadata": {},
   "outputs": [
    {
     "data": {
      "text/plain": [
       "array([[ 0.00000000e+00],\n",
       "       [-5.55111512e-17],\n",
       "       [-1.11022302e-16],\n",
       "       [ 0.00000000e+00]])"
      ]
     },
     "execution_count": 71,
     "metadata": {},
     "output_type": "execute_result"
    }
   ],
   "source": [
    "q+qtrue"
   ]
  },
  {
   "cell_type": "code",
   "execution_count": null,
   "id": "6628f62a-3814-4925-985c-9d9b7a9af9d5",
   "metadata": {},
   "outputs": [],
   "source": []
  },
  {
   "cell_type": "code",
   "execution_count": null,
   "id": "db6ead45-0b89-426d-b45f-89241d54a3e6",
   "metadata": {},
   "outputs": [],
   "source": []
  },
  {
   "cell_type": "code",
   "execution_count": null,
   "id": "496d8576-8220-4338-8cb9-a88b6ac43d9f",
   "metadata": {},
   "outputs": [],
   "source": []
  },
  {
   "cell_type": "code",
   "execution_count": null,
   "id": "91524359-fc48-4d88-88f3-cda3c81da158",
   "metadata": {},
   "outputs": [],
   "source": []
  },
  {
   "cell_type": "code",
   "execution_count": null,
   "id": "1766baeb-266c-4050-bbb8-ba931040a50f",
   "metadata": {},
   "outputs": [],
   "source": []
  },
  {
   "cell_type": "code",
   "execution_count": null,
   "id": "47f617c9-3529-47cf-a21e-8a1c7bf15584",
   "metadata": {},
   "outputs": [],
   "source": []
  },
  {
   "cell_type": "code",
   "execution_count": null,
   "id": "72039198-b443-4a2a-8478-e6669cbbdc63",
   "metadata": {},
   "outputs": [],
   "source": []
  },
  {
   "cell_type": "code",
   "execution_count": null,
   "id": "b8d98b08-3de0-4895-98ec-92a6309422d7",
   "metadata": {},
   "outputs": [],
   "source": []
  },
  {
   "cell_type": "code",
   "execution_count": null,
   "id": "c987e79e-5f5f-4b62-901a-d33d28cdac6e",
   "metadata": {},
   "outputs": [],
   "source": []
  }
 ],
 "metadata": {
  "kernelspec": {
   "display_name": "Python 3 (ipykernel)",
   "language": "python",
   "name": "python3"
  },
  "language_info": {
   "codemirror_mode": {
    "name": "ipython",
    "version": 3
   },
   "file_extension": ".py",
   "mimetype": "text/x-python",
   "name": "python",
   "nbconvert_exporter": "python",
   "pygments_lexer": "ipython3",
   "version": "3.12.9"
  }
 },
 "nbformat": 4,
 "nbformat_minor": 5
}
